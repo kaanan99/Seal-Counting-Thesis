{
 "cells": [
  {
   "cell_type": "code",
   "execution_count": 48,
   "metadata": {},
   "outputs": [],
   "source": [
    "import pandas as pd\n",
    "import numpy as np\n",
    "from skimage import io\n",
    "from tqdm.notebook import tqdm\n",
    "import os\n",
    "import pickle\n",
    "from sklearn.cluster import DBSCAN\n",
    "from torchvision.models import efficientnet_v2_m\n",
    "import torch.nn as nn\n",
    "import torch\n",
    "from torchvision import transforms"
   ]
  },
  {
   "cell_type": "code",
   "execution_count": 49,
   "metadata": {},
   "outputs": [
    {
     "name": "stdout",
     "output_type": "stream",
     "text": [
      "Using:  cuda\n"
     ]
    }
   ],
   "source": [
    "# Connect to the GPU if one exists.\n",
    "if torch.cuda.is_available():\n",
    "    device = torch.device(\"cuda\")\n",
    "else:\n",
    "    device = torch.device(\"cpu\")\n",
    "print(\"Using: \", device)\n",
    "torch.cuda.empty_cache()"
   ]
  },
  {
   "cell_type": "code",
   "execution_count": 50,
   "metadata": {},
   "outputs": [],
   "source": [
    "def get_seal_sub_images(img_path, water_classifier, model, step, device=device):\n",
    "    # crops like reading a book\n",
    "    centroids = []\n",
    "\n",
    "    img = io.imread(img_path, plugin=\"matplotlib\")\n",
    "    \n",
    "    x_len = img.shape[1]\n",
    "    y_len = img.shape[0]\n",
    "\n",
    "    model.to(device)\n",
    "    transform = transforms.Compose([transforms.ToTensor()])\n",
    "\n",
    "    # Iterate through y axis (Up to Down)\n",
    "    i = 0\n",
    "    while (i < y_len):\n",
    "        # If y coordinate is greater than len of image, look at the last step of image (y-coords = (ymax, ymax-step))\n",
    "        y1 = i\n",
    "        if i + step > y_len:\n",
    "            y1 = y_len-step\n",
    "            y2 = y_len\n",
    "            i = y_len\n",
    "        # Increase y coords by step\n",
    "        else:\n",
    "            y2 = i + step\n",
    "            i += step\n",
    "\n",
    "        # Iterate through x axis (left to right)\n",
    "        j = 0\n",
    "        while (j < x_len):\n",
    "            # If x coordinate is greater than len of image, look at the last step of image (x-coords = (xmax, xmax-step))\n",
    "            x1 = j\n",
    "            if j + step > x_len:\n",
    "                x1 = x_len - step\n",
    "                x2 = x_len\n",
    "                j = x_len\n",
    "            # Increase x coords by step\n",
    "            else:\n",
    "                x2 = j + step\n",
    "                j += step\n",
    "\n",
    "            # Sub images for models\n",
    "            sub_image = np.array(\n",
    "                    img[y1:y2, x1:x2]\n",
    "                )\n",
    "            sub_image_water_classifier = np.array(\n",
    "                    [\n",
    "                    np.array([sub_image]) # Wrapping in another array\n",
    "                    .reshape(22500, 3)\n",
    "                    .mean(axis=0)\n",
    "                    ]\n",
    "                )\n",
    "            \n",
    "            # Model predictions\n",
    "            water_prediction = water_classifier.predict(sub_image_water_classifier)\n",
    "            if water_prediction < .5:\n",
    "                # Get subimage for CNN\n",
    "                sub_image_cnn = (\n",
    "                    transform(sub_image)\n",
    "                    .unsqueeze(0)\n",
    "                    .to(device)\n",
    "                    )\n",
    "                \n",
    "                # Get seal prediction\n",
    "                seal_prediction = np.argmax(\n",
    "                    model(sub_image_cnn)\n",
    "                        .cpu()\n",
    "                        .detach()\n",
    "                        .numpy(), \n",
    "                    axis = 1\n",
    "                )[0]\n",
    "\n",
    "                if seal_prediction > .5:\n",
    "\n",
    "                    x_center = (x1 + x2) / 2\n",
    "                    y_center = (y1 + y2) / 2\n",
    "                    centroids.append((x_center, y_center))\n",
    "                    \n",
    "    return centroids\n",
    "\n",
    "def get_file_names(path):\n",
    "    names = set()\n",
    "    for x in os.listdir(path):\n",
    "        names.add(x.split(\".\")[0])\n",
    "    return list(names)\n",
    "\n",
    "def get_predicted_sub_images(cnn, water_classifier, path, write_path = None, version = \"\"):\n",
    "    seal_centroids = {}\n",
    "\n",
    "    file_names = get_file_names(path)\n",
    "\n",
    "    # Get Centriods\n",
    "    for file_name in tqdm(file_names, desc = \"Determining Images with Seals\"):\n",
    "        img_name =  f\"{file_name}.JPG\"\n",
    "        centroids = get_seal_sub_images(path+img_name, water_classifier, cnn, 150)\n",
    "        seal_centroids[file_name] = centroids\n",
    "\n",
    "    # Save file\n",
    "    if write_path != None:\n",
    "        with open(write_path + f\"/seals_centroids_{version}.pkl\", \"wb\") as f:\n",
    "            pickle.dump(seal_centroids, f)\n",
    "            \n",
    "    return seal_centroids"
   ]
  },
  {
   "cell_type": "code",
   "execution_count": 51,
   "metadata": {},
   "outputs": [],
   "source": [
    "# Load CNN\n",
    "efficientnet = efficientnet_v2_m()\n",
    "efficientnet.classifier[1] = nn.Linear(in_features=1280, out_features=2)\n",
    "efficientnet.load_state_dict(torch.load(r\"C:\\Users\\kaanan\\Desktop\\Noses\\Pytorch Image Classifiers\\ImageClassifierPytorch9\"))\n",
    "efficientnet.eval()\n",
    "efficientnet = efficientnet.to(device)"
   ]
  },
  {
   "cell_type": "code",
   "execution_count": 52,
   "metadata": {},
   "outputs": [],
   "source": [
    "f = open(r\"C:\\Users\\kaanan\\Desktop\\Water Images and XML\\water_classifier4\", \"rb\")\n",
    "water_classifier = pickle.load(f)\n",
    "f.close()"
   ]
  },
  {
   "cell_type": "code",
   "execution_count": 53,
   "metadata": {},
   "outputs": [],
   "source": [
    "# Load Paths to images\n",
    "training_path = r\"C:\\Users\\kaanan\\Desktop\\Training, Val, and Test Images\\Training Images/\"\n",
    "validation_path = r\"C:\\Users\\kaanan\\Desktop\\Training, Val, and Test Images\\Validation Images/\"\n",
    "testing_path = r\"C:\\Users\\kaanan\\Desktop\\Training, Val, and Test Images\\Test Images/\""
   ]
  },
  {
   "cell_type": "code",
   "execution_count": 54,
   "metadata": {},
   "outputs": [
    {
     "data": {
      "application/json": {
       "ascii": false,
       "bar_format": null,
       "colour": null,
       "elapsed": 0.007987499237060547,
       "initial": 0,
       "n": 0,
       "ncols": null,
       "nrows": null,
       "postfix": null,
       "prefix": "Determining Images with Seals",
       "rate": null,
       "total": 50,
       "unit": "it",
       "unit_divisor": 1000,
       "unit_scale": false
      },
      "application/vnd.jupyter.widget-view+json": {
       "model_id": "5c8c98505c604db588120663d8030c38",
       "version_major": 2,
       "version_minor": 0
      },
      "text/plain": [
       "Determining Images with Seals:   0%|          | 0/50 [00:00<?, ?it/s]"
      ]
     },
     "metadata": {},
     "output_type": "display_data"
    },
    {
     "data": {
      "application/json": {
       "ascii": false,
       "bar_format": null,
       "colour": null,
       "elapsed": 0.005999326705932617,
       "initial": 0,
       "n": 0,
       "ncols": null,
       "nrows": null,
       "postfix": null,
       "prefix": "Determining Images with Seals",
       "rate": null,
       "total": 16,
       "unit": "it",
       "unit_divisor": 1000,
       "unit_scale": false
      },
      "application/vnd.jupyter.widget-view+json": {
       "model_id": "d789c35b589149f086cb647fc3d5453b",
       "version_major": 2,
       "version_minor": 0
      },
      "text/plain": [
       "Determining Images with Seals:   0%|          | 0/16 [00:00<?, ?it/s]"
      ]
     },
     "metadata": {},
     "output_type": "display_data"
    },
    {
     "data": {
      "application/json": {
       "ascii": false,
       "bar_format": null,
       "colour": null,
       "elapsed": 0.009159088134765625,
       "initial": 0,
       "n": 0,
       "ncols": null,
       "nrows": null,
       "postfix": null,
       "prefix": "Determining Images with Seals",
       "rate": null,
       "total": 13,
       "unit": "it",
       "unit_divisor": 1000,
       "unit_scale": false
      },
      "application/vnd.jupyter.widget-view+json": {
       "model_id": "c3537693b8db44d292d565478e18fdd1",
       "version_major": 2,
       "version_minor": 0
      },
      "text/plain": [
       "Determining Images with Seals:   0%|          | 0/13 [00:00<?, ?it/s]"
      ]
     },
     "metadata": {},
     "output_type": "display_data"
    }
   ],
   "source": [
    "write_path = r\"C:\\Users\\kaanan\\Desktop\\RCNN\\MetaData\" \n",
    "\n",
    "\n",
    "centroids_training = get_predicted_sub_images(efficientnet, water_classifier, training_path, write_path=write_path, version=\"training\")\n",
    "centroids_validation = get_predicted_sub_images(efficientnet, water_classifier, validation_path, write_path=write_path, version=\"validation\")\n",
    "centroids_testing= get_predicted_sub_images(efficientnet, water_classifier, testing_path, write_path=write_path, version=\"testing\")"
   ]
  }
 ],
 "metadata": {
  "kernelspec": {
   "display_name": "Python 3",
   "language": "python",
   "name": "python3"
  },
  "language_info": {
   "codemirror_mode": {
    "name": "ipython",
    "version": 3
   },
   "file_extension": ".py",
   "mimetype": "text/x-python",
   "name": "python",
   "nbconvert_exporter": "python",
   "pygments_lexer": "ipython3",
   "version": "3.10.5"
  },
  "orig_nbformat": 4
 },
 "nbformat": 4,
 "nbformat_minor": 2
}
