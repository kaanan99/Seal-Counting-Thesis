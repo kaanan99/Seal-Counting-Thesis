{
 "cells": [
  {
   "cell_type": "code",
   "execution_count": null,
   "metadata": {},
   "outputs": [],
   "source": [
    "import matplotlib.pyplot as plt\n",
    "import numpy as np\n",
    "import pandas as pd\n",
    "import torch\n",
    "import torch.nn as nn\n",
    "\n",
    "\n",
    "from sklearn.utils import class_weight\n",
    "\n",
    "from torch.utils.data import DataLoader\n",
    "from torchvision.models import efficientnet_v2_m, EfficientNet_V2_M_Weights\n",
    "from torch.optim import Adam\n",
    "\n",
    "from tqdm.notebook import tqdm\n",
    "\n",
    "from cnn_utils import (\n",
    "    SealDataset,\n",
    "    display_result_metrics, \n",
    "    generate_predictions_pytorch,\n",
    "    get_labels_and_sub_images, \n",
    "    get_labels, \n",
    ")"
   ]
  },
  {
   "cell_type": "code",
   "execution_count": null,
   "metadata": {},
   "outputs": [],
   "source": [
    "# Connect to the GPU if one exists.\n",
    "if torch.cuda.is_available():\n",
    "    device = torch.device(\"cuda\")\n",
    "else:\n",
    "    device = torch.device(\"cpu\")\n",
    "print(\"Using: \", device)\n",
    "torch.cuda.empty_cache()"
   ]
  },
  {
   "cell_type": "code",
   "execution_count": null,
   "metadata": {},
   "outputs": [],
   "source": [
    "# Load Model with pre-trained weights\n",
    "efficientnet = efficientnet_v2_m(weights=EfficientNet_V2_M_Weights.DEFAULT)\n",
    "\n",
    "# Add final layer to predict 2 classes\n",
    "efficientnet.classifier[1] = nn.Linear(in_features=1280, out_features=2)\n",
    "\n",
    "# Put on device\n",
    "efficientnet = efficientnet.to(device)"
   ]
  },
  {
   "cell_type": "code",
   "execution_count": null,
   "metadata": {},
   "outputs": [],
   "source": [
    "# Load Data\n",
    "data_path = \"../Data\"\n",
    "\n",
    "train_img_data = np.load(f\"{data_path}/train_images.npy\", allow_pickle=True)\n",
    "train_bb_data = np.load(f\"{data_path}/train_bb_data.npy\", allow_pickle=True)\n",
    "\n",
    "val_img_data  = np.load(f\"{data_path}/val_images.npy\", allow_pickle=True)\n",
    "val_bb_data = np.load(f\"{data_path}/val_bb_data.npy\", allow_pickle=True)"
   ]
  },
  {
   "cell_type": "code",
   "execution_count": null,
   "metadata": {},
   "outputs": [],
   "source": [
    "seal_threshold = .3\n",
    "\n",
    "# Separate the images and image data between seal and no seal\n",
    "label_1_img, label_1, label_0_img, label_0 = get_labels_and_sub_images(train_img_data, train_bb_data, threshold=seal_threshold)\n",
    "\n",
    "# Get the labels for the validation data\n",
    "val_label = get_labels(val_bb_data, seal_threshold)"
   ]
  },
  {
   "cell_type": "code",
   "execution_count": null,
   "metadata": {},
   "outputs": [],
   "source": [
    "transfomed_images = []\n",
    "transformed_labels = []\n",
    "\n",
    "#Add mirror images and horizontal flip\n",
    "for sub_image in label_1_img:\n",
    "    \n",
    "    # Apply tranformations\n",
    "    mirrored_image = np.fliplr(sub_image)\n",
    "    horizontal_flipped_image = np.flipud(sub_image)\n",
    "\n",
    "    # Add new data\n",
    "    transfomed_images.append(mirrored_image)\n",
    "    transfomed_images.append(horizontal_flipped_image)\n",
    "\n",
    "    transformed_labels.append(1)\n",
    "    transformed_labels.append(1)\n",
    "\n",
    "# Combine images\n",
    "label_1_img += transfomed_images\n",
    "label_1 += transformed_labels"
   ]
  },
  {
   "cell_type": "code",
   "execution_count": null,
   "metadata": {},
   "outputs": [],
   "source": [
    "total_labels = np.array(label_1 + label_0)\n",
    "total_images = np.array(label_1_img + label_0_img)"
   ]
  },
  {
   "cell_type": "code",
   "execution_count": null,
   "metadata": {},
   "outputs": [],
   "source": [
    "# Convert to Tensors\n",
    "total_labels_tensors = torch.tensor(total_labels, dtype=torch.long)\n",
    "val_label_tensors = torch.tensor(val_label, dtype=torch.long)\n",
    "\n",
    "# Create Dataset objects\n",
    "train_data = SealDataset(total_images, total_labels_tensors)\n",
    "valid_data = SealDataset(val_img_data, val_label_tensors)\n",
    "\n",
    "# Instantiate DataLoader\n",
    "train_loader = DataLoader(dataset = train_data, batch_size=10, shuffle=True )\n",
    "valid_loader = DataLoader(dataset = valid_data, batch_size=50, shuffle=True)"
   ]
  },
  {
   "cell_type": "code",
   "execution_count": null,
   "metadata": {},
   "outputs": [],
   "source": [
    "# Calculate Class weights\n",
    "unique_classes = np.unique(total_labels)\n",
    "weights = class_weight.compute_class_weight(\n",
    "    \"balanced\", \n",
    "    classes=unique_classes, \n",
    "    y=total_labels\n",
    ")\n",
    "class_weights = torch.FloatTensor(weights).to(device)"
   ]
  },
  {
   "cell_type": "code",
   "execution_count": null,
   "metadata": {},
   "outputs": [],
   "source": [
    "# Other model parameters\n",
    "optimizer = Adam(efficientnet.parameters(), lr=3e-4)\n",
    "loss_fn = nn.CrossEntropyLoss(weight=class_weights)"
   ]
  },
  {
   "cell_type": "code",
   "execution_count": null,
   "metadata": {},
   "outputs": [],
   "source": [
    "def train_model(model, epochs:int, opt, loss, dataloader:DataLoader, device:str) -> None:\n",
    "    model.train()\n",
    "    N = len(dataloader.dataset)\n",
    "\n",
    "    for epoch_num in range(epochs):\n",
    "        # Display metrics\n",
    "        total_loss = 0\n",
    "        correct = 0\n",
    "        total_seen = 0\n",
    "        loop = tqdm(dataloader)\n",
    "\n",
    "        # Train each batch\n",
    "        for data, label in loop:\n",
    "            # Put data and label on device\n",
    "            data = data.to(device)\n",
    "            label = label.type(torch.FloatTensor).to(device)\n",
    "\n",
    "            # Forward propogate\n",
    "            opt.zero_grad()\n",
    "            yhat = model(data).type(torch.FloatTensor).to(device)\n",
    "            loss = loss_fn(yhat, label)\n",
    "\n",
    "            # Calculate metrtics for batch (For display)\n",
    "            total_loss += abs(loss.item())\n",
    "            for i in range(len(yhat)):\n",
    "                \n",
    "                # Check if correctly predicted seal\n",
    "                if yhat[i][1] > .5 and label[i][1] == 1:\n",
    "                    correct += 1\n",
    "\n",
    "                # Check if correctly predicted no seal\n",
    "                elif yhat[i][0] > .5 and label[i][0] == 1:\n",
    "                    correct += 1\n",
    "\n",
    "                total_seen += 1\n",
    "            \n",
    "            # Backwards propogate\n",
    "            loss.backward()\n",
    "            opt.step()\n",
    "\n",
    "            # Display batch metrics\n",
    "            loop.set_description(\"Epoch: {}      Accuracy: {}      MAE: {}      \".format(epoch_num + 1, round(correct/total_seen, 4), round(total_loss/total_seen, 4)))\n",
    "            loop.refresh()\n",
    "\n",
    "        # Display Epoch metrics\n",
    "        print(f\"Epoch:{epoch_num + 1} MAE:{total_loss / N} Accuracy: {correct / N}\")"
   ]
  },
  {
   "cell_type": "code",
   "execution_count": null,
   "metadata": {},
   "outputs": [],
   "source": [
    "train_model(efficientnet, 1, optimizer, loss_fn, train_loader, device)"
   ]
  },
  {
   "cell_type": "code",
   "execution_count": null,
   "metadata": {},
   "outputs": [],
   "source": [
    "# Evaluate model\n",
    "actual_labels, predicted_labels = generate_predictions_pytorch(efficientnet, valid_loader, device)\n",
    "\n",
    "display_result_metrics(actual_labels, predicted_labels)"
   ]
  },
  {
   "cell_type": "code",
   "execution_count": null,
   "metadata": {},
   "outputs": [],
   "source": [
    "# Save model\n",
    "model_name = \"cnn_efficient_net\"\n",
    "\n",
    "torch.save(efficientnet.state_dict(), f\"../Models/PyTorch/{model_name}\")"
   ]
  }
 ],
 "metadata": {
  "kernelspec": {
   "display_name": "Python 3",
   "language": "python",
   "name": "python3"
  },
  "language_info": {
   "codemirror_mode": {
    "name": "ipython",
    "version": 3
   },
   "file_extension": ".py",
   "mimetype": "text/x-python",
   "name": "python",
   "nbconvert_exporter": "python",
   "pygments_lexer": "ipython3",
   "version": "3.10.13"
  },
  "orig_nbformat": 4
 },
 "nbformat": 4,
 "nbformat_minor": 2
}
