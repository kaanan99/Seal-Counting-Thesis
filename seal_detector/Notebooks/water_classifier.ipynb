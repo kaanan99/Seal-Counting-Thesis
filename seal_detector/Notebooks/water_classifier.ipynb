{
  "cells": [
    {
      "cell_type": "code",
      "execution_count": null,
      "metadata": {
        "id": "W1P-oHO7nure"
      },
      "outputs": [],
      "source": [
        "import numpy as np\n",
        "import pandas as pd\n",
        "import pickle\n",
        "\n",
        "from sklearn.model_selection import train_test_split\n",
        "from sklearn.ensemble import RandomForestClassifier\n",
        "from sklearn import tree\n",
        "\n",
        "from cnn_utils import get_labels_and_sub_images, display_result_metrics"
      ]
    },
    {
      "cell_type": "code",
      "execution_count": null,
      "metadata": {},
      "outputs": [],
      "source": [
        "# Load in Data\n",
        "data_path = \"../Data\"\n",
        "\n",
        "# Bounding box data\n",
        "with open(f\"{data_path}/water_bb_data.pkl\", \"rb\") as file:\n",
        "    bb_data = pickle.load(file)\n",
        "\n",
        "# Image data\n",
        "with open(f\"{data_path}/water_images.pkl\", \"rb\") as file:\n",
        "    img_data= pickle.load(file)"
      ]
    },
    {
      "cell_type": "code",
      "execution_count": null,
      "metadata": {},
      "outputs": [],
      "source": [
        "# Separate the images and image data between water and no water\n",
        "label_1_img, label_1, label_0_img, label_0 = get_labels_and_sub_images(img_data, bb_data, threshold=0)"
      ]
    },
    {
      "cell_type": "code",
      "execution_count": null,
      "metadata": {},
      "outputs": [],
      "source": [
        "transfomed_images = []\n",
        "transformed_labels = []\n",
        "\n",
        "#Add mirror images and horizontal flip\n",
        "for sub_image in label_1_img:\n",
        "    \n",
        "    # Apply tranformations\n",
        "    mirrored_image = np.fliplr(sub_image)\n",
        "    horizontal_flipped_image = np.flipud(sub_image)\n",
        "\n",
        "    # Add new data\n",
        "    transfomed_images.append(mirrored_image)\n",
        "    transfomed_images.append(horizontal_flipped_image)\n",
        "\n",
        "    transformed_labels.append(1)\n",
        "    transformed_labels.append(1)\n",
        "\n",
        "# Combine images\n",
        "label_1_img += transfomed_images\n",
        "label_1 += transformed_labels"
      ]
    },
    {
      "cell_type": "code",
      "execution_count": null,
      "metadata": {},
      "outputs": [],
      "source": [
        "total_images = np.array(label_1_img + label_0_img)\n",
        "total_labels = np.array(label_1 + label_0)"
      ]
    },
    {
      "cell_type": "code",
      "execution_count": null,
      "metadata": {},
      "outputs": [],
      "source": [
        "# Split between test and train sets\n",
        "training_input, testing_input, training_label, testing_label = train_test_split(\n",
        "    total_images, \n",
        "    total_labels, \n",
        "    test_size=.2, \n",
        "    random_state=5\n",
        ")\n",
        "\n",
        "# Split between Training and validation set\n",
        "training_input, validation_input, training_label, validation_label = train_test_split(\n",
        "    training_input, \n",
        "    training_label, \n",
        "    test_size=.2, \n",
        "    random_state = 5\n",
        ")"
      ]
    },
    {
      "cell_type": "code",
      "execution_count": null,
      "metadata": {},
      "outputs": [],
      "source": [
        "def calculate_average_rgb(images: np.array) -> np.array:\n",
        "    \"\"\"Calculates the Average Red, Green, and Blue values for each sub-image \n",
        "\n",
        "    Args:\n",
        "        images (np.array): Numpy array containing all sub-images\n",
        "\n",
        "    Returns:\n",
        "        np.array: Numpy array containing the average red, green, and blue values for each sub-image\n",
        "    \"\"\"\n",
        "    average_rgb_images = [\n",
        "        img.reshape(22500, 3).mean(axis=0)\n",
        "        for img in images\n",
        "    ]\n",
        "    return np.array(average_rgb_images)"
      ]
    },
    {
      "cell_type": "code",
      "execution_count": null,
      "metadata": {},
      "outputs": [],
      "source": [
        "# Convert sub-images into average RGB values\n",
        "training_input = calculate_average_rgb(training_input)\n",
        "validation_input = calculate_average_rgb(validation_input)\n",
        "testing_input = calculate_average_rgb(testing_input)"
      ]
    },
    {
      "cell_type": "code",
      "execution_count": null,
      "metadata": {},
      "outputs": [],
      "source": [
        "# Create random forest classifier\n",
        "random_forest = RandomForestClassifier(random_state=5)\n",
        "\n",
        "# Fit training data\n",
        "random_forest.fit(training_input, training_label)"
      ]
    },
    {
      "cell_type": "code",
      "execution_count": null,
      "metadata": {},
      "outputs": [],
      "source": [
        "def evaluate_random_forest(classifier, input:np.array, actual_labels:np.array) -> None:\n",
        "    \"\"\"Evaluates the performance for the water classifier\n",
        "\n",
        "    Args:\n",
        "        classifier (sklearn classifier): Classifier used for the water detector\n",
        "        input (np.array): Input for the model to make predictions\n",
        "        actual_labels (np.array): true labels for each sub-image\n",
        "    \"\"\"\n",
        "    # Get predictions\n",
        "    predicted_probablities = classifier.predict(input)\n",
        "    \n",
        "    # Get predicted labels\n",
        "    predicted_labels= [1 if prob >.5 else 0 for prob in predicted_probablities]\n",
        "\n",
        "    # Display metrics\n",
        "    display_result_metrics(actual_labels, predicted_labels)"
      ]
    },
    {
      "cell_type": "code",
      "execution_count": null,
      "metadata": {},
      "outputs": [],
      "source": [
        "# Training\n",
        "evaluate_random_forest(random_forest, training_input, training_label)"
      ]
    },
    {
      "cell_type": "code",
      "execution_count": null,
      "metadata": {},
      "outputs": [],
      "source": [
        "# Validation\n",
        "evaluate_random_forest(random_forest, validation_input, validation_label)"
      ]
    },
    {
      "cell_type": "code",
      "execution_count": null,
      "metadata": {},
      "outputs": [],
      "source": [
        "# Testing\n",
        "evaluate_random_forest(random_forest, testing_input, testing_label)"
      ]
    },
    {
      "cell_type": "code",
      "execution_count": null,
      "metadata": {},
      "outputs": [],
      "source": [
        "model_name = \"water_classifier\"\n",
        "\n",
        "with open(f\"../Models/water_classifier/{model_name}\", \"wb\") as file:\n",
        "    pickle.dump(random_forest, file)"
      ]
    }
  ],
  "metadata": {
    "colab": {
      "provenance": []
    },
    "kernelspec": {
      "display_name": "Python 3",
      "language": "python",
      "name": "python3"
    },
    "language_info": {
      "codemirror_mode": {
        "name": "ipython",
        "version": 3
      },
      "file_extension": ".py",
      "mimetype": "text/x-python",
      "name": "python",
      "nbconvert_exporter": "python",
      "pygments_lexer": "ipython3",
      "version": "3.10.13"
    },
    "vscode": {
      "interpreter": {
        "hash": "26de051ba29f2982a8de78e945f0abaf191376122a1563185a90213a26c5da77"
      }
    }
  },
  "nbformat": 4,
  "nbformat_minor": 0
}
