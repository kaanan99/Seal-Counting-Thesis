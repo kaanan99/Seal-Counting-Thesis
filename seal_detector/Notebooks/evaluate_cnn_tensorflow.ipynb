{
 "cells": [
  {
   "cell_type": "code",
   "execution_count": null,
   "metadata": {},
   "outputs": [],
   "source": [
    "import numpy as np\n",
    "import tensorflow as tf\n",
    "\n",
    "from cnn_utils import (\n",
    "    get_labels, \n",
    "    generate_predictions_tensor_flow, \n",
    "    display_result_metrics\n",
    ")"
   ]
  },
  {
   "cell_type": "code",
   "execution_count": null,
   "metadata": {},
   "outputs": [],
   "source": [
    "# Load model\n",
    "model_name = \"FullTrainModel2\"\n",
    "path = f\"../Models/Tensorflow/{model_name}\"\n",
    "cnn = tf.keras.models.load_model(path)"
   ]
  },
  {
   "cell_type": "code",
   "execution_count": null,
   "metadata": {},
   "outputs": [],
   "source": [
    "# Load Data\n",
    "data_path = \"../Data\"\n",
    "\n",
    "train_img_data = np.load(f\"{data_path}/train_images.npy\", allow_pickle=True)\n",
    "train_bb_data = np.load(f\"{data_path}/train_bb_data.npy\", allow_pickle=True)\n",
    "\n",
    "val_img_data  = np.load(f\"{data_path}/val_images.npy\", allow_pickle=True)\n",
    "val_bb_data = np.load(f\"{data_path}/val_bb_data.npy\", allow_pickle=True)\n",
    "\n",
    "test_img_data  = np.load(f\"{data_path}/test_images.npy\", allow_pickle=True)\n",
    "test_bb_data = np.load(f\"{data_path}/test_bb_data.npy\", allow_pickle=True)"
   ]
  },
  {
   "cell_type": "code",
   "execution_count": null,
   "metadata": {},
   "outputs": [],
   "source": [
    "def evaluate_model(img_data: np.array, bb_data:np.array, model, threshold:float=.3) -> None:\n",
    "    \"\"\"Display evaluation metrics for the given model and data\n",
    "\n",
    "    Args:\n",
    "        img_data (np.array): Numpy array containing image information. Images are in the shap (150, 150, 3)\n",
    "        bb_data (np.array): Numpy array containing bounding box information\n",
    "        model (TensorFlow Keras model): model to use to generate predictions \n",
    "        threshold (float, optional): Seal threshold to filter out seals. Defaults to .3.\n",
    "    \"\"\"\n",
    "    # Get Labels\n",
    "    true_labels = get_labels(bb_data, threshold=threshold)\n",
    "    \n",
    "    # Get predictions\n",
    "    predicted_labels = generate_predictions_tensor_flow(model, img_data)\n",
    "    \n",
    "    # Dispaly metrics\n",
    "    display_result_metrics(true_labels, predicted_labels)"
   ]
  },
  {
   "cell_type": "code",
   "execution_count": null,
   "metadata": {},
   "outputs": [],
   "source": [
    "evaluate_model(train_img_data, train_bb_data, cnn)"
   ]
  },
  {
   "cell_type": "code",
   "execution_count": null,
   "metadata": {},
   "outputs": [],
   "source": [
    "evaluate_model(val_img_data, val_bb_data, cnn)"
   ]
  },
  {
   "cell_type": "code",
   "execution_count": null,
   "metadata": {},
   "outputs": [],
   "source": [
    "evaluate_model(test_img_data, test_bb_data, cnn)"
   ]
  }
 ],
 "metadata": {
  "kernelspec": {
   "display_name": "Python 3",
   "language": "python",
   "name": "python3"
  },
  "language_info": {
   "codemirror_mode": {
    "name": "ipython",
    "version": 3
   },
   "file_extension": ".py",
   "mimetype": "text/x-python",
   "name": "python",
   "nbconvert_exporter": "python",
   "pygments_lexer": "ipython3",
   "version": "3.10.13"
  }
 },
 "nbformat": 4,
 "nbformat_minor": 2
}
