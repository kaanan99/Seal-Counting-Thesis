{
 "cells": [
  {
   "cell_type": "code",
   "execution_count": null,
   "metadata": {},
   "outputs": [],
   "source": [
    "import numpy as np\n",
    "import pickle\n",
    "import torch\n",
    "\n",
    "from tqdm.notebook import tqdm\n",
    "from typing import List, Dict\n",
    "from rcnn_utils import predict, detach_pred, get_object_detection_model"
   ]
  },
  {
   "cell_type": "code",
   "execution_count": null,
   "metadata": {},
   "outputs": [],
   "source": [
    "# Connect to the GPU if one exists.\n",
    "if torch.cuda.is_available():\n",
    "    device = torch.device(\"cuda\")\n",
    "else:\n",
    "    device = torch.device(\"cpu\")\n",
    "print(\"Using: \", device)\n",
    "torch.cuda.empty_cache()"
   ]
  },
  {
   "cell_type": "code",
   "execution_count": null,
   "metadata": {},
   "outputs": [],
   "source": [
    "def get_image_predictions(sub_images: List, rcnn_model, device:str=device) -> List:\n",
    "    \"\"\"Generate sub-image count predictions for the given RCNN model\n",
    "\n",
    "    Args:\n",
    "        sub_images (List): List of sub-images predicted to contain a seal\n",
    "        rcnn_model (Pytorch Model): RCNN model that will make count predictions\n",
    "        device (str, optional): Device to use. Either 'gpu' or 'cpu'. Defaults to device.\n",
    "\n",
    "    Returns:\n",
    "        List: List of sub-image predictions\n",
    "    \"\"\"\n",
    "    image_predictions = []\n",
    "\n",
    "    for sub_image in sub_images:\n",
    "\n",
    "        # Get predictions from sub-iomage and detach from GPU\n",
    "        sub_image_prediction = detach_pred(\n",
    "            predict(\n",
    "                rcnn_model, \n",
    "                sub_image[0], \n",
    "                device\n",
    "                )\n",
    "            )\n",
    "        \n",
    "        image_predictions.append(sub_image_prediction)\n",
    "\n",
    "    return image_predictions\n",
    "\n",
    "\n",
    "def generate_predictions(rcnn_model, seal_sub_images:Dict, write_name:str, write_path:str, device:str=device) -> None:\n",
    "    \"\"\"Generates RCNN count predictions on sub-images. Will save files to specified path with specified name. \n",
    "\n",
    "    Args:\n",
    "        rcnn_model (Pytorch model): Pyotorch model that will make count predictions\n",
    "        seal_sub_images (Dict): Dictionary containing sub-images (key: Image name, value: List of seal sub-images)\n",
    "        write_name (str): Name of file to use when writing\n",
    "        write_path (str): Path to location where the predictions should be stored\n",
    "        device (str, optional): Device to use. Either 'gpu' or 'cpu'. Defaults to device.s\n",
    "    \"\"\"\n",
    "    rcnn_predictions_per_image = {}\n",
    "\n",
    "    # Generate RCNN predictions and save in dictionary\n",
    "    for image_name in tqdm(seal_sub_images.keys()):\n",
    "\n",
    "        rcnn_predictions_per_image[image_name] = get_image_predictions(\n",
    "            seal_sub_images[image_name], \n",
    "            rcnn_model,\n",
    "            device=device\n",
    "            )\n",
    "\n",
    "    # Save dictionary containing rcnn predictions\n",
    "    with open(f\"{write_path}/{write_name}_predictions.pkl\", \"wb\") as f:\n",
    "        pickle.dump(rcnn_predictions_per_image, f)"
   ]
  },
  {
   "cell_type": "code",
   "execution_count": null,
   "metadata": {},
   "outputs": [],
   "source": [
    "# Load Models\n",
    "rcnn_unfrozen = get_object_detection_model(version=1, path=\"../..//Models/rcnn_resnet_v1_unfrozen_transformations_step_50_with_backbone_weights_50\").to(device)\n",
    "rcnn_frozen_v1 = get_object_detection_model(version=1, path=\"../../Models/rcnn_trial1_50\").to(device)\n",
    "rcnn_frozen_v2 = get_object_detection_model(version=2, path=\"../../Models/rcnn_trial3_50\").to(device)"
   ]
  },
  {
   "cell_type": "code",
   "execution_count": null,
   "metadata": {},
   "outputs": [],
   "source": [
    "sub_images_path = \"../../../seal_detector/Generated Data\"\n",
    "\n",
    "training_sub_images_path = f\"{sub_images_path}/training_seals_pytorch.pkl\"\n",
    "validation_sub_image_path = f\"{sub_images_path}/validation_seals_pytorch.pkl\"\n",
    "testing_sub_image_path = f\"{sub_images_path}/testing_seals_pytorch.pkl\"\n",
    "\n",
    "with open(training_sub_images_path, \"rb\") as fp:\n",
    "    training_sub_images = pickle.load(fp)\n",
    "\n",
    "with open(validation_sub_image_path, \"rb\") as fp:\n",
    "    validation_sub_images = pickle.load(fp)\n",
    "\n",
    "with open(testing_sub_image_path, \"rb\") as fp:\n",
    "    testing_sub_images = pickle.load(fp)"
   ]
  },
  {
   "cell_type": "code",
   "execution_count": null,
   "metadata": {},
   "outputs": [],
   "source": [
    "data_sets = [training_sub_images, validation_sub_images, testing_sub_images]\n",
    "data_set_names = [\"training\", \"validation\", \"testing\"]"
   ]
  },
  {
   "cell_type": "code",
   "execution_count": null,
   "metadata": {},
   "outputs": [],
   "source": [
    "write_path = \"../../Generated Data\"\n",
    "\n",
    "for idx in range(len(data_sets)):\n",
    "    data_set = data_sets[idx]\n",
    "    data_set_name = data_set_names[idx]\n",
    "\n",
    "    generate_predictions(rcnn_unfrozen, data_set, f\"unfrozen_{data_set_name}\", write_path)\n",
    "    generate_predictions(rcnn_frozen_v1, data_set, f\"frozen_v1_{data_set_name}\", write_path)\n",
    "    generate_predictions(rcnn_frozen_v2, data_set, f\"frozen_v2_{data_set_name}\", write_path)"
   ]
  }
 ],
 "metadata": {
  "kernelspec": {
   "display_name": "Python 3",
   "language": "python",
   "name": "python3"
  },
  "language_info": {
   "codemirror_mode": {
    "name": "ipython",
    "version": 3
   },
   "file_extension": ".py",
   "mimetype": "text/x-python",
   "name": "python",
   "nbconvert_exporter": "python",
   "pygments_lexer": "ipython3",
   "version": "3.10.13"
  },
  "orig_nbformat": 4
 },
 "nbformat": 4,
 "nbformat_minor": 2
}
