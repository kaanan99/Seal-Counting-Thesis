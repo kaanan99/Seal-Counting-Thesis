{
 "cells": [
  {
   "cell_type": "code",
   "execution_count": null,
   "metadata": {},
   "outputs": [],
   "source": [
    "import numpy as np\n",
    "\n",
    "import torch\n",
    "import torch.nn as nn\n",
    "from torch.utils.data import DataLoader\n",
    "from torchvision.models import efficientnet_v2_m, EfficientNet_V2_M_Weights\n",
    "\n",
    "from cnn_utils import (\n",
    "    SealDataset, \n",
    "    display_result_metrics,\n",
    "    generate_predictions_pytorch, \n",
    "    get_labels, \n",
    ")"
   ]
  },
  {
   "cell_type": "code",
   "execution_count": null,
   "metadata": {},
   "outputs": [],
   "source": [
    "# Connect to the GPU if one exists.\n",
    "if torch.cuda.is_available():\n",
    "    device = torch.device(\"cuda\")\n",
    "else:\n",
    "    device = torch.device(\"cpu\")\n",
    "print(\"Using: \", device)\n",
    "torch.cuda.empty_cache()"
   ]
  },
  {
   "cell_type": "code",
   "execution_count": null,
   "metadata": {},
   "outputs": [],
   "source": [
    "model_name =\"ImageClassifierPytorch9\"\n",
    "path = f\"../Models/PyTorch/{model_name}\"\n",
    "\n",
    "# Load Model with pre-trained weights\n",
    "efficientnet = efficientnet_v2_m(weights=EfficientNet_V2_M_Weights.DEFAULT)\n",
    "\n",
    "# Add final layer to predict 2 classes\n",
    "efficientnet.classifier[1] = nn.Linear(in_features=1280, out_features=2)\n",
    "\n",
    "# Load trained weights\n",
    "efficientnet.load_state_dict(torch.load(path))\n",
    "\n",
    "# Put on device\n",
    "efficientnet = efficientnet.to(device)"
   ]
  },
  {
   "cell_type": "code",
   "execution_count": null,
   "metadata": {},
   "outputs": [],
   "source": [
    "# Load Data\n",
    "data_path = \"../Data\"\n",
    "\n",
    "train_img_data = np.load(f\"{data_path}/train_images.npy\", allow_pickle=True)\n",
    "train_bb_data = np.load(f\"{data_path}/train_bb_data.npy\", allow_pickle=True)\n",
    "\n",
    "val_img_data  = np.load(f\"{data_path}/val_images.npy\", allow_pickle=True)\n",
    "val_bb_data = np.load(f\"{data_path}/val_bb_data.npy\", allow_pickle=True)\n",
    "\n",
    "test_img_data  = np.load(f\"{data_path}/test_images.npy\", allow_pickle=True)\n",
    "test_bb_data = np.load(f\"{data_path}/test_bb_data.npy\", allow_pickle=True)"
   ]
  },
  {
   "cell_type": "code",
   "execution_count": null,
   "metadata": {},
   "outputs": [],
   "source": [
    "# Get labels for sub-images\n",
    "seal_threshold = .3\n",
    "\n",
    "training_labels = get_labels(train_bb_data, seal_threshold)\n",
    "val_labels = get_labels(val_bb_data, seal_threshold)\n",
    "test_labels = get_labels(test_bb_data, seal_threshold)"
   ]
  },
  {
   "cell_type": "code",
   "execution_count": null,
   "metadata": {},
   "outputs": [],
   "source": [
    "# Convert to Tensor\n",
    "train_labels = torch.tensor(training_labels, dtype=torch.long)\n",
    "val_labels = torch.tensor(val_labels, dtype=torch.long)\n",
    "test_labels = torch.tensor(test_labels, dtype=torch.long)\n",
    "\n",
    "# Create Dataset object\n",
    "train_data = SealDataset(train_img_data, training_labels)\n",
    "valid_data = SealDataset(val_img_data, val_labels)\n",
    "test_data = SealDataset(test_img_data, test_labels)\n",
    "\n",
    "# Create Data Loader\n",
    "train_loader = DataLoader(dataset = train_data, batch_size=10, shuffle=True )\n",
    "valid_loader = DataLoader(dataset = valid_data, batch_size=50, shuffle=True)\n",
    "test_loader = DataLoader(dataset = test_data, batch_size=50, shuffle=True)"
   ]
  },
  {
   "cell_type": "code",
   "execution_count": null,
   "metadata": {},
   "outputs": [],
   "source": [
    "def evaluate_model(model, loader:DataLoader, device:str) -> None:\n",
    "    \"\"\"Get predicted labels from model and displays evaluation metrics\n",
    "\n",
    "    Args:\n",
    "        model (torchvision model): Model to generate predictions with\n",
    "        loader (DataLoader): DataLoader object containing data to evaluate\n",
    "        device (str): Can either be 'cpu' or 'cuda', refers to CPU or GPU usage respectively\n",
    "    \"\"\"\n",
    "    actual_labels, predicted_labels = generate_predictions_pytorch(model, loader, device)\n",
    "    display_result_metrics(actual_labels, predicted_labels)"
   ]
  },
  {
   "cell_type": "code",
   "execution_count": null,
   "metadata": {},
   "outputs": [],
   "source": [
    "evaluate_model(efficientnet, train_loader, device)"
   ]
  },
  {
   "cell_type": "code",
   "execution_count": null,
   "metadata": {},
   "outputs": [],
   "source": [
    "evaluate_model(efficientnet, valid_loader, device)"
   ]
  },
  {
   "cell_type": "code",
   "execution_count": null,
   "metadata": {},
   "outputs": [],
   "source": [
    "evaluate_model(efficientnet, test_loader, device)"
   ]
  }
 ],
 "metadata": {
  "kernelspec": {
   "display_name": "Python 3",
   "language": "python",
   "name": "python3"
  },
  "language_info": {
   "codemirror_mode": {
    "name": "ipython",
    "version": 3
   },
   "file_extension": ".py",
   "mimetype": "text/x-python",
   "name": "python",
   "nbconvert_exporter": "python",
   "pygments_lexer": "ipython3",
   "version": "3.10.13"
  }
 },
 "nbformat": 4,
 "nbformat_minor": 2
}
