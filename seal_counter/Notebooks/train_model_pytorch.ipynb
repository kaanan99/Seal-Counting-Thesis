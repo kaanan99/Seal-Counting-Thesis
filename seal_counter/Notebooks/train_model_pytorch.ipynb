{
 "cells": [
  {
   "cell_type": "code",
   "execution_count": 1,
   "metadata": {},
   "outputs": [],
   "source": [
    "import matplotlib.pyplot as plt\n",
    "import numpy as np\n",
    "import pandas as pd\n",
    "import torch\n",
    "import torch.nn as nn\n",
    "from torch.utils.data import DataLoader, Dataset\n",
    "from torchvision import transforms\n",
    "from tqdm.notebook import tqdm\n",
    "from torchvision.models import efficientnet_v2_m, EfficientNet_V2_M_Weights\n",
    "import torchvision\n",
    "from torch.optim import Adam\n",
    "from sklearn.utils import class_weight\n",
    "from sklearn.metrics import precision_score, confusion_matrix, ConfusionMatrixDisplay\n",
    "import sys"
   ]
  },
  {
   "cell_type": "code",
   "execution_count": 2,
   "metadata": {},
   "outputs": [
    {
     "name": "stdout",
     "output_type": "stream",
     "text": [
      "Using:  cuda\n"
     ]
    }
   ],
   "source": [
    "# Connect to the GPU if one exists.\n",
    "if torch.cuda.is_available():\n",
    "    device = torch.device(\"cuda\")\n",
    "else:\n",
    "    device = torch.device(\"cpu\")\n",
    "print(\"Using: \", device)\n",
    "torch.cuda.empty_cache()"
   ]
  },
  {
   "cell_type": "code",
   "execution_count": 3,
   "metadata": {},
   "outputs": [],
   "source": [
    "train_img_data = np.load(r\"C:\\Users\\kaanan\\Desktop\\Noses\\train_images.npy\", allow_pickle = True)\n",
    "train_bb_data = np.load(r\"C:\\Users\\kaanan\\Desktop\\Noses\\train_bb_data.npy\", allow_pickle = True)\n",
    "val_img_data  = np.load(r\"C:\\Users\\kaanan\\Desktop\\Noses\\val_images.npy\", allow_pickle = True)\n",
    "val_bb_data = np.load(r\"C:\\Users\\kaanan\\Desktop\\Noses\\val_bb_data.npy\", allow_pickle = True)"
   ]
  },
  {
   "cell_type": "code",
   "execution_count": 4,
   "metadata": {},
   "outputs": [],
   "source": [
    "label_1_img = []\n",
    "label_1 = []\n",
    "label_0_img = []\n",
    "label_0 = []\n",
    "threshold = .3\n",
    "for x in range(len(train_bb_data)):\n",
    "  if train_bb_data[x] is not None:\n",
    "    percent = float(max(train_bb_data[x][\"percent_seal\"]))\n",
    "    if percent > threshold:\n",
    "      label_1_img.append(train_img_data[x])\n",
    "      label_1.append((1))\n",
    "    else:\n",
    "      label_0_img.append(train_img_data[x])\n",
    "      label_0.append((0))\n",
    "  else:\n",
    "    label_0_img.append(train_img_data[x])\n",
    "    label_0.append((0))\n",
    "\n",
    "val_label = []\n",
    "for x in range(len(val_bb_data)):\n",
    "    if val_bb_data[x] is not None:\n",
    "      percent = float(max(val_bb_data[x][\"percent_seal\"]))\n",
    "      if percent > threshold:\n",
    "        val_label.append(1)\n",
    "      else:\n",
    "        val_label.append(0)\n",
    "    else:\n",
    "      val_label.append(0)\n",
    "val_label = np.array(val_label)"
   ]
  },
  {
   "cell_type": "code",
   "execution_count": 5,
   "metadata": {},
   "outputs": [],
   "source": [
    "#Add mirror images and horizontal flip\n",
    "\n",
    "new_label_1_img = []\n",
    "new_label_1 = []\n",
    "for img in label_1_img:\n",
    "    new_label_1_img.append(img)\n",
    "    new_label_1.append(1)\n",
    "    new_label_1_img.append(np.fliplr(img))\n",
    "    new_label_1.append(1)\n",
    "    new_label_1_img.append(np.flipud(img))\n",
    "    new_label_1.append(1)"
   ]
  },
  {
   "cell_type": "code",
   "execution_count": 6,
   "metadata": {},
   "outputs": [],
   "source": [
    "total_labels = np.array(new_label_1 + label_0)\n",
    "total_images = np.array(new_label_1_img + label_0_img)\n",
    "trans = transforms.Compose([transforms.ToTensor()])"
   ]
  },
  {
   "cell_type": "code",
   "execution_count": 13,
   "metadata": {},
   "outputs": [],
   "source": [
    "class SealDataset(Dataset):\n",
    "    def __init__(self, images, labels, transform=transforms.Compose([transforms.ToTensor()])):\n",
    "        self.images = images\n",
    "        self.labels = labels\n",
    "        self.transform = transform\n",
    "\n",
    "    def __len__(self):\n",
    "        self.length = len(self.labels)\n",
    "        return self.length\n",
    "\n",
    "    def __getitem__(self, idx):\n",
    "        image = self.images[idx]\n",
    "        label = self.labels[idx]\n",
    "        if label == 0:\n",
    "            ret_label = torch.FloatTensor([1, 0])\n",
    "        else:\n",
    "            ret_label = torch.FloatTensor([0, 1])\n",
    "        return self.transform(image), ret_label"
   ]
  },
  {
   "cell_type": "code",
   "execution_count": 14,
   "metadata": {},
   "outputs": [
    {
     "name": "stderr",
     "output_type": "stream",
     "text": [
      "C:\\Users\\kaanan\\AppData\\Local\\Temp\\ipykernel_16116\\3139409286.py:1: UserWarning: To copy construct from a tensor, it is recommended to use sourceTensor.clone().detach() or sourceTensor.clone().detach().requires_grad_(True), rather than torch.tensor(sourceTensor).\n",
      "  total_labels = torch.tensor(total_labels, dtype=torch.long)\n",
      "C:\\Users\\kaanan\\AppData\\Local\\Temp\\ipykernel_16116\\3139409286.py:2: UserWarning: To copy construct from a tensor, it is recommended to use sourceTensor.clone().detach() or sourceTensor.clone().detach().requires_grad_(True), rather than torch.tensor(sourceTensor).\n",
      "  val_label = torch.tensor(val_label, dtype=torch.long)\n"
     ]
    }
   ],
   "source": [
    "total_labels = torch.tensor(total_labels, dtype=torch.long)\n",
    "val_label = torch.tensor(val_label, dtype=torch.long)\n",
    "train_data = SealDataset(total_images, total_labels)\n",
    "valid_data = SealDataset(val_img_data, val_label)\n",
    "train_loader = DataLoader(dataset = train_data, batch_size=10, shuffle=True )\n",
    "valid_loader = DataLoader(dataset = valid_data, batch_size=50, shuffle=True)"
   ]
  },
  {
   "cell_type": "code",
   "execution_count": 15,
   "metadata": {},
   "outputs": [],
   "source": [
    "efficientnet = efficientnet_v2_m(weights=EfficientNet_V2_M_Weights.DEFAULT)\n",
    "efficientnet.classifier[1] = nn.Linear(in_features=1280, out_features=2)\n",
    "efficientnet = efficientnet.to(device)"
   ]
  },
  {
   "cell_type": "code",
   "execution_count": 16,
   "metadata": {},
   "outputs": [],
   "source": [
    "weights = class_weight.compute_class_weight(\"balanced\", classes = np.unique(np.array(new_label_1 + label_0)), y = np.array(new_label_1 + label_0))\n",
    "class_weights = torch.FloatTensor(weights).to(device)\n",
    "opt = Adam(efficientnet.parameters(), lr=3e-4)\n",
    "loss_fn = nn.CrossEntropyLoss(weight=class_weights)"
   ]
  },
  {
   "cell_type": "code",
   "execution_count": 17,
   "metadata": {},
   "outputs": [],
   "source": [
    "def train_model(model, epochs, opt, loss, train, device):\n",
    "    model.train()\n",
    "    N = len(train.dataset)\n",
    "    for epoch in range(epochs):\n",
    "        total_loss = 0\n",
    "        correct = 0\n",
    "        total_seen = 0\n",
    "        loop = tqdm(train)\n",
    "        for data, label in loop:\n",
    "            # Run model\n",
    "            data = data.to(device)\n",
    "            label = label.type(torch.FloatTensor).to(device)\n",
    "            opt.zero_grad()\n",
    "            yhat = model(data).type(torch.FloatTensor).to(device)\n",
    "            loss = loss_fn(yhat, label)\n",
    "            # Meta Data\n",
    "            total_loss += abs(loss.item())\n",
    "            for i in range(len(yhat)):\n",
    "                if yhat[i][1] > .5 and label[i][1] == 1:\n",
    "                    correct += 1\n",
    "                elif yhat[i][0] > .5 and label[i][0] == 1:\n",
    "                    correct += 1\n",
    "                total_seen += 1\n",
    "            # Back prop\n",
    "            loss.backward()\n",
    "            opt.step()\n",
    "            loop.set_description(\"Epoch: {}      Accuracy: {}      MAE: {}      \".format(epoch, round(correct/total_seen, 4), round(total_loss/total_seen, 4)))\n",
    "            loop.refresh()\n",
    "        print(f\"Epoch:{epoch + 1} MAE:{total_loss / N} Accuracy: {correct / N}\")\n",
    "\n",
    "def validate_data(model, valid, device):\n",
    "    model.eval()\n",
    "    total_yhat = np.array([])\n",
    "    total_labels = np.array([])\n",
    "    for data, label in tqdm(valid):\n",
    "        data = data.to(device)\n",
    "        yhat = model(data).cpu().detach().numpy()\n",
    "        total_yhat = np.concatenate((total_yhat, np.argmax(yhat, axis = 1)))\n",
    "        total_labels = np.concatenate((total_labels, np.argmax(label.detach().numpy(), axis = 1)))\n",
    "    cm_train = confusion_matrix(total_labels, total_yhat)\n",
    "    ConfusionMatrixDisplay(confusion_matrix=cm_train).plot()\n",
    "    tn = cm_train[0][0]\n",
    "    tp = cm_train[1][1]\n",
    "    fn = cm_train[1][0]\n",
    "    fp = cm_train[0][1]\n",
    "\n",
    "    precision = tp / (fp + tp)\n",
    "    recall = tp / (fn + tp)\n",
    "    print(\"Accuracy:\", (tn + tp) / (tn + tp + fn + fp))\n",
    "    print(\"Precision:\", precision)\n",
    "    print(\"Recall:\", recall)"
   ]
  },
  {
   "cell_type": "code",
   "execution_count": 18,
   "metadata": {},
   "outputs": [],
   "source": [
    "def train_model_with_val(model, epochs, opt, loss, train, val, device):\n",
    "    model.train()\n",
    "    N = len(train.dataset)\n",
    "    train_accuracy = []\n",
    "    val_accuracy = []\n",
    "    training_MAE = []\n",
    "    for epoch in range(epochs):\n",
    "        total_loss = 0\n",
    "        correct = 0\n",
    "        total_seen = 0\n",
    "        loop = tqdm(train)\n",
    "        model.train()\n",
    "        for data, label in loop:\n",
    "            # Run model\n",
    "            data = data.to(device)\n",
    "            label = label.type(torch.FloatTensor).to(device)\n",
    "            opt.zero_grad()\n",
    "            yhat = model(data).type(torch.FloatTensor).to(device)\n",
    "            loss = loss_fn(yhat, label)\n",
    "            # Meta Data\n",
    "            total_loss += abs(loss.item())\n",
    "            for i in range(len(yhat)):\n",
    "                if yhat[i][1] > .5 and label[i][1] == 1:\n",
    "                    correct += 1\n",
    "                elif yhat[i][0] > .5 and label[i][0] == 1:\n",
    "                    correct += 1\n",
    "                total_seen += 1\n",
    "            # Back prop\n",
    "            loss.backward()\n",
    "            opt.step()\n",
    "            loop.set_description(\"Epoch: {}      Accuracy: {}      MAE: {}   \".format(epoch, round(correct/total_seen, 4), round(total_loss/total_seen, 4)))\n",
    "            loop.refresh()\n",
    "        print(f\"Epoch:{epoch + 1} MAE:{total_loss / N} Accuracy: {correct / N}\")\n",
    "        train_accuracy.append(correct / N)\n",
    "        training_MAE.append(total_loss/total_seen)\n",
    "        model.eval()\n",
    "        total_yhat = np.array([])\n",
    "        total_labels = np.array([])\n",
    "        for data, label in tqdm(val):\n",
    "            data = data.to(device)\n",
    "            yhat = model(data).cpu().detach().numpy()\n",
    "            total_yhat = np.concatenate((total_yhat, np.argmax(yhat, axis = 1)))\n",
    "            total_labels = np.concatenate((total_labels, np.argmax(label.detach().numpy(), axis = 1)))\n",
    "        val_correct = 0\n",
    "        for i in range(len(total_yhat)):\n",
    "            if total_yhat[i] == total_labels[i]:\n",
    "                val_correct += 1\n",
    "        val_accuracy.append(val_correct / len(total_yhat))\n",
    "        print(f\"Epoch:{epoch + 1} Validation Accuracy: {val_correct / len(total_yhat)}\")\n",
    "    return train_accuracy, val_accuracy, training_MAE\n",
    "        "
   ]
  },
  {
   "cell_type": "code",
   "execution_count": 19,
   "metadata": {},
   "outputs": [
    {
     "data": {
      "application/json": {
       "ascii": false,
       "bar_format": null,
       "colour": null,
       "elapsed": 0.011276006698608398,
       "initial": 0,
       "n": 0,
       "ncols": null,
       "nrows": null,
       "postfix": null,
       "prefix": "",
       "rate": null,
       "total": 9621,
       "unit": "it",
       "unit_divisor": 1000,
       "unit_scale": false
      },
      "application/vnd.jupyter.widget-view+json": {
       "model_id": "e531ccbe1e3a45cabb83ae5316d95a45",
       "version_major": 2,
       "version_minor": 0
      },
      "text/plain": [
       "  0%|          | 0/9621 [00:00<?, ?it/s]"
      ]
     },
     "metadata": {},
     "output_type": "display_data"
    },
    {
     "name": "stdout",
     "output_type": "stream",
     "text": [
      "Epoch:1 MAE:0.02332953857901689 Accuracy: 0.8388109344143021\n"
     ]
    },
    {
     "data": {
      "application/json": {
       "ascii": false,
       "bar_format": null,
       "colour": null,
       "elapsed": 0.007998228073120117,
       "initial": 0,
       "n": 0,
       "ncols": null,
       "nrows": null,
       "postfix": null,
       "prefix": "",
       "rate": null,
       "total": 414,
       "unit": "it",
       "unit_divisor": 1000,
       "unit_scale": false
      },
      "application/vnd.jupyter.widget-view+json": {
       "model_id": "608bc9b99ef04cfeac8b64a500313dd5",
       "version_major": 2,
       "version_minor": 0
      },
      "text/plain": [
       "  0%|          | 0/414 [00:00<?, ?it/s]"
      ]
     },
     "metadata": {},
     "output_type": "display_data"
    },
    {
     "name": "stdout",
     "output_type": "stream",
     "text": [
      "Epoch:1 Validation Accuracy: 0.9371069182389937\n"
     ]
    },
    {
     "data": {
      "application/json": {
       "ascii": false,
       "bar_format": null,
       "colour": null,
       "elapsed": 0.004985332489013672,
       "initial": 0,
       "n": 0,
       "ncols": null,
       "nrows": null,
       "postfix": null,
       "prefix": "",
       "rate": null,
       "total": 9621,
       "unit": "it",
       "unit_divisor": 1000,
       "unit_scale": false
      },
      "application/vnd.jupyter.widget-view+json": {
       "model_id": "1a50704d0fb74513a8e509a21137eff9",
       "version_major": 2,
       "version_minor": 0
      },
      "text/plain": [
       "  0%|          | 0/9621 [00:00<?, ?it/s]"
      ]
     },
     "metadata": {},
     "output_type": "display_data"
    },
    {
     "name": "stdout",
     "output_type": "stream",
     "text": [
      "Epoch:2 MAE:0.01644393205919067 Accuracy: 0.8921110071718117\n"
     ]
    },
    {
     "data": {
      "application/json": {
       "ascii": false,
       "bar_format": null,
       "colour": null,
       "elapsed": 0.0070002079010009766,
       "initial": 0,
       "n": 0,
       "ncols": null,
       "nrows": null,
       "postfix": null,
       "prefix": "",
       "rate": null,
       "total": 414,
       "unit": "it",
       "unit_divisor": 1000,
       "unit_scale": false
      },
      "application/vnd.jupyter.widget-view+json": {
       "model_id": "40fa09ef89094aafbe83222ba7c138e8",
       "version_major": 2,
       "version_minor": 0
      },
      "text/plain": [
       "  0%|          | 0/414 [00:00<?, ?it/s]"
      ]
     },
     "metadata": {},
     "output_type": "display_data"
    },
    {
     "name": "stdout",
     "output_type": "stream",
     "text": [
      "Epoch:2 Validation Accuracy: 0.9145137880986938\n"
     ]
    },
    {
     "data": {
      "application/json": {
       "ascii": false,
       "bar_format": null,
       "colour": null,
       "elapsed": 0,
       "initial": 0,
       "n": 0,
       "ncols": null,
       "nrows": null,
       "postfix": null,
       "prefix": "",
       "rate": null,
       "total": 9621,
       "unit": "it",
       "unit_divisor": 1000,
       "unit_scale": false
      },
      "application/vnd.jupyter.widget-view+json": {
       "model_id": "c96ecc59f8bc49f9bec53beecaaacdc9",
       "version_major": 2,
       "version_minor": 0
      },
      "text/plain": [
       "  0%|          | 0/9621 [00:00<?, ?it/s]"
      ]
     },
     "metadata": {},
     "output_type": "display_data"
    },
    {
     "name": "stdout",
     "output_type": "stream",
     "text": [
      "Epoch:3 MAE:0.012635229762298287 Accuracy: 0.9220974950628833\n"
     ]
    },
    {
     "data": {
      "application/json": {
       "ascii": false,
       "bar_format": null,
       "colour": null,
       "elapsed": 0,
       "initial": 0,
       "n": 0,
       "ncols": null,
       "nrows": null,
       "postfix": null,
       "prefix": "",
       "rate": null,
       "total": 414,
       "unit": "it",
       "unit_divisor": 1000,
       "unit_scale": false
      },
      "application/vnd.jupyter.widget-view+json": {
       "model_id": "0eb03586f69a499ebfe7c50b7bf006e0",
       "version_major": 2,
       "version_minor": 0
      },
      "text/plain": [
       "  0%|          | 0/414 [00:00<?, ?it/s]"
      ]
     },
     "metadata": {},
     "output_type": "display_data"
    },
    {
     "name": "stdout",
     "output_type": "stream",
     "text": [
      "Epoch:3 Validation Accuracy: 0.9500241896468311\n"
     ]
    },
    {
     "data": {
      "application/json": {
       "ascii": false,
       "bar_format": null,
       "colour": null,
       "elapsed": 0,
       "initial": 0,
       "n": 0,
       "ncols": null,
       "nrows": null,
       "postfix": null,
       "prefix": "",
       "rate": null,
       "total": 9621,
       "unit": "it",
       "unit_divisor": 1000,
       "unit_scale": false
      },
      "application/vnd.jupyter.widget-view+json": {
       "model_id": "f74b73dfff1c4e82bdd9386b16ee327a",
       "version_major": 2,
       "version_minor": 0
      },
      "text/plain": [
       "  0%|          | 0/9621 [00:00<?, ?it/s]"
      ]
     },
     "metadata": {},
     "output_type": "display_data"
    },
    {
     "name": "stdout",
     "output_type": "stream",
     "text": [
      "Epoch:4 MAE:0.009853575621914013 Accuracy: 0.9397879638291238\n"
     ]
    },
    {
     "data": {
      "application/json": {
       "ascii": false,
       "bar_format": null,
       "colour": null,
       "elapsed": 0.004080057144165039,
       "initial": 0,
       "n": 0,
       "ncols": null,
       "nrows": null,
       "postfix": null,
       "prefix": "",
       "rate": null,
       "total": 414,
       "unit": "it",
       "unit_divisor": 1000,
       "unit_scale": false
      },
      "application/vnd.jupyter.widget-view+json": {
       "model_id": "dd91ebdfa5a344b7977a9078c38ce65b",
       "version_major": 2,
       "version_minor": 0
      },
      "text/plain": [
       "  0%|          | 0/414 [00:00<?, ?it/s]"
      ]
     },
     "metadata": {},
     "output_type": "display_data"
    },
    {
     "name": "stdout",
     "output_type": "stream",
     "text": [
      "Epoch:4 Validation Accuracy: 0.9519109820996613\n"
     ]
    },
    {
     "data": {
      "application/json": {
       "ascii": false,
       "bar_format": null,
       "colour": null,
       "elapsed": 0.005064249038696289,
       "initial": 0,
       "n": 0,
       "ncols": null,
       "nrows": null,
       "postfix": null,
       "prefix": "",
       "rate": null,
       "total": 9621,
       "unit": "it",
       "unit_divisor": 1000,
       "unit_scale": false
      },
      "application/vnd.jupyter.widget-view+json": {
       "model_id": "6b59e12197804407b2305be770e11310",
       "version_major": 2,
       "version_minor": 0
      },
      "text/plain": [
       "  0%|          | 0/9621 [00:00<?, ?it/s]"
      ]
     },
     "metadata": {},
     "output_type": "display_data"
    },
    {
     "name": "stdout",
     "output_type": "stream",
     "text": [
      "Epoch:5 MAE:0.008200732728806115 Accuracy: 0.9494958943976718\n"
     ]
    },
    {
     "data": {
      "application/json": {
       "ascii": false,
       "bar_format": null,
       "colour": null,
       "elapsed": 0.007999420166015625,
       "initial": 0,
       "n": 0,
       "ncols": null,
       "nrows": null,
       "postfix": null,
       "prefix": "",
       "rate": null,
       "total": 414,
       "unit": "it",
       "unit_divisor": 1000,
       "unit_scale": false
      },
      "application/vnd.jupyter.widget-view+json": {
       "model_id": "2b253f6d0b1843499191ea3d2ad30d45",
       "version_major": 2,
       "version_minor": 0
      },
      "text/plain": [
       "  0%|          | 0/414 [00:00<?, ?it/s]"
      ]
     },
     "metadata": {},
     "output_type": "display_data"
    },
    {
     "name": "stdout",
     "output_type": "stream",
     "text": [
      "Epoch:5 Validation Accuracy: 0.9578616352201258\n"
     ]
    }
   ],
   "source": [
    "train_accuracy, val_accuracy, mae = train_model_with_val(efficientnet, 5, opt, loss_fn, train_loader, valid_loader, device)"
   ]
  },
  {
   "cell_type": "code",
   "execution_count": 21,
   "metadata": {},
   "outputs": [
    {
     "data": {
      "image/png": "[encoded data removed]",
      "text/plain": [
       "<Figure size 640x480 with 1 Axes>"
      ]
     },
     "metadata": {},
     "output_type": "display_data"
    }
   ],
   "source": [
    "epochs = [x+1 for x in range(5)]\n",
    "plt.plot(epochs, train_accuracy, label = \"Training Accuracy\")\n",
    "plt.plot(epochs, val_accuracy, label = \"Validation Accuracy\")\n",
    "plt.xticks(ticks=epochs)\n",
    "#plt.plot(epochs, mae, label = \"Training Mean Absolute Error\")\n",
    "plt.xlabel('Epochs') \n",
    "plt.ylabel('Percentage') \n",
    "plt.title(\"Training vs Validation Accuracy for Seal Classifier\")\n",
    "plt.legend()\n",
    "plt.show()"
   ]
  },
  {
   "cell_type": "code",
   "execution_count": 22,
   "metadata": {},
   "outputs": [
    {
     "data": {
      "image/png": "[encoded data removed]",
      "text/plain": [
       "<Figure size 640x480 with 1 Axes>"
      ]
     },
     "metadata": {},
     "output_type": "display_data"
    }
   ],
   "source": [
    "plt.plot(epochs, mae)\n",
    "plt.xticks(ticks=epochs)\n",
    "plt.xlabel('Epochs') \n",
    "plt.ylabel('Mean Absolute Error Value') \n",
    "plt.title(\"Mean Absolute Error for Each Epoch\")\n",
    "plt.show()"
   ]
  },
  {
   "cell_type": "code",
   "execution_count": 24,
   "metadata": {},
   "outputs": [
    {
     "data": {
      "application/json": {
       "ascii": false,
       "bar_format": null,
       "colour": null,
       "elapsed": 0.013852119445800781,
       "initial": 0,
       "n": 0,
       "ncols": null,
       "nrows": null,
       "postfix": null,
       "prefix": "",
       "rate": null,
       "total": 414,
       "unit": "it",
       "unit_divisor": 1000,
       "unit_scale": false
      },
      "application/vnd.jupyter.widget-view+json": {
       "model_id": "af9ef0cadb9c4510ade6fcc409431915",
       "version_major": 2,
       "version_minor": 0
      },
      "text/plain": [
       "  0%|          | 0/414 [00:00<?, ?it/s]"
      ]
     },
     "metadata": {},
     "output_type": "display_data"
    },
    {
     "name": "stdout",
     "output_type": "stream",
     "text": [
      "Accuracy: 0.9578616352201258\n",
      "Precision: 0.7868679775280899\n",
      "Recall: 0.8946107784431138\n"
     ]
    },
    {
     "data": {
      "image/png": "[encoded data removed]",
      "text/plain": [
       "<Figure size 640x480 with 2 Axes>"
      ]
     },
     "metadata": {},
     "output_type": "display_data"
    }
   ],
   "source": [
    "validate_data(efficientnet, valid_loader, device)"
   ]
  },
  {
   "cell_type": "code",
   "execution_count": 25,
   "metadata": {},
   "outputs": [],
   "source": [
    "torch.save(efficientnet.state_dict(), r\"C:\\Users\\kaanan\\Desktop\\Noses/ImageClassifierPytorch8\")"
   ]
  },
  {
   "cell_type": "code",
   "execution_count": 23,
   "metadata": {},
   "outputs": [
    {
     "data": {
      "text/plain": [
       "<All keys matched successfully>"
      ]
     },
     "execution_count": 23,
     "metadata": {},
     "output_type": "execute_result"
    }
   ],
   "source": [
    "# Retrain old moddel\n",
    "resnet = resnet152(weights=ResNet152_Weights.DEFAULT)\n",
    "for p in resnet.parameters():\n",
    "            p.requires_grad = False\n",
    "my_model = NeuralNetwork()\n",
    "resnet.fc = my_model\n",
    "model = resnet.to(device)\n",
    "model.load_state_dict(torch.load(r\"C:\\Users\\kaanan\\Desktop\\Noses/ImageClassifierPytorch4\"))"
   ]
  },
  {
   "cell_type": "code",
   "execution_count": 30,
   "metadata": {},
   "outputs": [
    {
     "data": {
      "application/json": {
       "ascii": false,
       "bar_format": null,
       "colour": null,
       "elapsed": 0.0069882869720458984,
       "initial": 0,
       "n": 0,
       "ncols": null,
       "nrows": null,
       "postfix": null,
       "prefix": "",
       "rate": null,
       "total": 9621,
       "unit": "it",
       "unit_divisor": 1000,
       "unit_scale": false
      },
      "application/vnd.jupyter.widget-view+json": {
       "model_id": "9d274fdad6534175bd5ec2df301abad6",
       "version_major": 2,
       "version_minor": 0
      },
      "text/plain": [
       "  0%|          | 0/9621 [00:00<?, ?it/s]"
      ]
     },
     "metadata": {},
     "output_type": "display_data"
    },
    {
     "name": "stderr",
     "output_type": "stream",
     "text": [
      "C:\\Users\\kaanan\\AppData\\Roaming\\Python\\Python310\\site-packages\\torch\\nn\\modules\\container.py:217: UserWarning: Implicit dimension choice for softmax has been deprecated. Change the call to include dim=X as an argument.\n",
      "  input = module(input)\n"
     ]
    },
    {
     "name": "stdout",
     "output_type": "stream",
     "text": [
      "Epoch:1 MAE:0.042580341287758776 Accuracy: 0.8861344974534872\n"
     ]
    }
   ],
   "source": [
    "weights = class_weight.compute_class_weight(\"balanced\", classes = np.unique(np.array(new_label_1 + label_0)), y = np.array(new_label_1 + label_0))\n",
    "class_weights = torch.FloatTensor(weights).to(device)\n",
    "opt = Adam(model.parameters(), lr=3e-4)\n",
    "loss_fn = nn.CrossEntropyLoss(weight=class_weights)\n",
    "train_model(model, 1, opt, loss_fn, train_loader, device)"
   ]
  },
  {
   "cell_type": "code",
   "execution_count": 17,
   "metadata": {},
   "outputs": [
    {
     "data": {
      "application/json": {
       "ascii": false,
       "bar_format": null,
       "colour": null,
       "elapsed": 0.007031917572021484,
       "initial": 0,
       "n": 0,
       "ncols": null,
       "nrows": null,
       "postfix": null,
       "prefix": "",
       "rate": null,
       "total": 138,
       "unit": "it",
       "unit_divisor": 1000,
       "unit_scale": false
      },
      "application/vnd.jupyter.widget-view+json": {
       "model_id": "341816dce6da4fdaa3bbc33f120be408",
       "version_major": 2,
       "version_minor": 0
      },
      "text/plain": [
       "  0%|          | 0/138 [00:00<?, ?it/s]"
      ]
     },
     "metadata": {},
     "output_type": "display_data"
    },
    {
     "name": "stdout",
     "output_type": "stream",
     "text": [
      "Accuracy: 0.9302370585389453\n",
      "Precision: 0.6654217242452537\n",
      "Recall: 0.8534930139720559\n"
     ]
    },
    {
     "data": {
      "image/png": "[encoded data removed]",
      "text/plain": [
       "<Figure size 640x480 with 2 Axes>"
      ]
     },
     "metadata": {},
     "output_type": "display_data"
    }
   ],
   "source": [
    "validate_data(model, valid_loader, device)"
   ]
  },
  {
   "cell_type": "code",
   "execution_count": 29,
   "metadata": {},
   "outputs": [],
   "source": [
    "torch.save(model.state_dict(), r\"C:\\Users\\kaanan\\Desktop\\Noses/ImageClassifierPytorch6\")"
   ]
  }
 ],
 "metadata": {
  "kernelspec": {
   "display_name": "Python 3",
   "language": "python",
   "name": "python3"
  },
  "language_info": {
   "codemirror_mode": {
    "name": "ipython",
    "version": 3
   },
   "file_extension": ".py",
   "mimetype": "text/x-python",
   "name": "python",
   "nbconvert_exporter": "python",
   "pygments_lexer": "ipython3",
   "version": "3.10.5"
  },
  "orig_nbformat": 4
 },
 "nbformat": 4,
 "nbformat_minor": 2
}
